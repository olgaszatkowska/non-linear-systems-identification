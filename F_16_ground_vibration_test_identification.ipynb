{
 "cells": [
  {
   "cell_type": "code",
   "execution_count": 1,
   "metadata": {},
   "outputs": [
    {
     "data": {
      "text/plain": [
       "DataSample(force=-3.957, voltage=0.012045, acceleration_1=-0.0053978, acceleration_2=0.037517, acceleration_3=0.058993, stimulation_type=<StimulationType.MULTISINE_FULL_FREQUENCY_GRID: 'multisine_full_frequency_grid'>)"
      ]
     },
     "execution_count": 1,
     "metadata": {},
     "output_type": "execute_result"
    }
   ],
   "source": [
    "from samples import (\n",
    "    get_data_samples,\n",
    "    StimulationType,\n",
    ")\n",
    "\n",
    "data_samples = get_data_samples()"
   ]
  },
  {
   "cell_type": "code",
   "execution_count": 2,
   "metadata": {},
   "outputs": [],
   "source": [
    "from training_validation_sets import get_training_validation_and_testing_sets\n",
    "\n",
    "sets = get_training_validation_and_testing_sets(data_samples, 15)\n",
    "(\n",
    "    X_train,\n",
    "    y_train,\n",
    "    X_val,\n",
    "    y_val,\n",
    "    X_test,\n",
    "    y_test,\n",
    ") = sets"
   ]
  },
  {
   "cell_type": "code",
   "execution_count": 3,
   "metadata": {},
   "outputs": [
    {
     "data": {
      "text/plain": [
       "((63144,), (63144, 3))"
      ]
     },
     "execution_count": 3,
     "metadata": {},
     "output_type": "execute_result"
    }
   ],
   "source": [
    "X_train.shape, y_train.shape"
   ]
  },
  {
   "cell_type": "code",
   "execution_count": 4,
   "metadata": {},
   "outputs": [
    {
     "data": {
      "text/plain": [
       "array([[26.2296  , -0.054031],\n",
       "       [27.2707  , -0.056345],\n",
       "       [27.8936  , -0.058008],\n",
       "       [28.336   , -0.059006],\n",
       "       [28.4586  , -0.059363],\n",
       "       [28.1931  , -0.05905 ],\n",
       "       [27.7373  , -0.058065],\n",
       "       [26.8361  , -0.056436],\n",
       "       [25.6448  , -0.05417 ],\n",
       "       [24.2047  , -0.051318],\n",
       "       [22.3752  , -0.047858],\n",
       "       [20.4283  , -0.043878],\n",
       "       [18.2511  , -0.039404],\n",
       "       [15.7982  , -0.034486],\n",
       "       [13.2947  , -0.02918 ]])"
      ]
     },
     "execution_count": 4,
     "metadata": {},
     "output_type": "execute_result"
    }
   ],
   "source": [
    "X_train[0]"
   ]
  },
  {
   "cell_type": "code",
   "execution_count": 5,
   "metadata": {},
   "outputs": [
    {
     "data": {
      "text/plain": [
       "array([0.19258, 0.13044, 0.12067], dtype=object)"
      ]
     },
     "execution_count": 5,
     "metadata": {},
     "output_type": "execute_result"
    }
   ],
   "source": [
    "y_train[0]"
   ]
  },
  {
   "cell_type": "code",
   "execution_count": 6,
   "metadata": {},
   "outputs": [
    {
     "name": "stderr",
     "output_type": "stream",
     "text": [
      "2024-05-30 14:27:44.664346: I tensorflow/tsl/cuda/cudart_stub.cc:28] Could not find cuda drivers on your machine, GPU will not be used.\n",
      "2024-05-30 14:27:44.789409: I tensorflow/tsl/cuda/cudart_stub.cc:28] Could not find cuda drivers on your machine, GPU will not be used.\n",
      "2024-05-30 14:27:44.790320: I tensorflow/core/platform/cpu_feature_guard.cc:182] This TensorFlow binary is optimized to use available CPU instructions in performance-critical operations.\n",
      "To enable the following instructions: AVX2 FMA, in other operations, rebuild TensorFlow with the appropriate compiler flags.\n",
      "2024-05-30 14:27:46.730410: W tensorflow/compiler/tf2tensorrt/utils/py_utils.cc:38] TF-TRT Warning: Could not find TensorRT\n"
     ]
    },
    {
     "ename": "TypeError",
     "evalue": "get_training_validation_and_testing_sets() takes 2 positional arguments but 3 were given",
     "output_type": "error",
     "traceback": [
      "\u001b[0;31m---------------------------------------------------------------------------\u001b[0m",
      "\u001b[0;31mTypeError\u001b[0m                                 Traceback (most recent call last)",
      "\u001b[1;32m/home/olga/projects/sem8/non-linear-systems-identyfication/F_16_ground_vibration_test_identification.ipynb Cell 6\u001b[0m in \u001b[0;36m<cell line: 5>\u001b[0;34m()\u001b[0m\n\u001b[1;32m      <a href='vscode-notebook-cell:/home/olga/projects/sem8/non-linear-systems-identyfication/F_16_ground_vibration_test_identification.ipynb#X21sZmlsZQ%3D%3D?line=1'>2</a>\u001b[0m \u001b[39mimport\u001b[39;00m \u001b[39mtensorflow\u001b[39;00m \u001b[39mas\u001b[39;00m \u001b[39mtf\u001b[39;00m\n\u001b[1;32m      <a href='vscode-notebook-cell:/home/olga/projects/sem8/non-linear-systems-identyfication/F_16_ground_vibration_test_identification.ipynb#X21sZmlsZQ%3D%3D?line=2'>3</a>\u001b[0m \u001b[39mimport\u001b[39;00m \u001b[39mmatplotlib\u001b[39;00m \u001b[39mas\u001b[39;00m \u001b[39mplt\u001b[39;00m\n\u001b[0;32m----> <a href='vscode-notebook-cell:/home/olga/projects/sem8/non-linear-systems-identyfication/F_16_ground_vibration_test_identification.ipynb#X21sZmlsZQ%3D%3D?line=4'>5</a>\u001b[0m sets \u001b[39m=\u001b[39m get_training_validation_and_testing_sets(\n\u001b[1;32m      <a href='vscode-notebook-cell:/home/olga/projects/sem8/non-linear-systems-identyfication/F_16_ground_vibration_test_identification.ipynb#X21sZmlsZQ%3D%3D?line=5'>6</a>\u001b[0m     data_samples, \u001b[39m15\u001b[39;49m, StimulationType\u001b[39m.\u001b[39;49mSINE_SWEEP\n\u001b[1;32m      <a href='vscode-notebook-cell:/home/olga/projects/sem8/non-linear-systems-identyfication/F_16_ground_vibration_test_identification.ipynb#X21sZmlsZQ%3D%3D?line=6'>7</a>\u001b[0m )\n\u001b[1;32m      <a href='vscode-notebook-cell:/home/olga/projects/sem8/non-linear-systems-identyfication/F_16_ground_vibration_test_identification.ipynb#X21sZmlsZQ%3D%3D?line=7'>8</a>\u001b[0m X_train, X_val, X_test, y_train, y_val, y_test \u001b[39m=\u001b[39m sets\n\u001b[1;32m     <a href='vscode-notebook-cell:/home/olga/projects/sem8/non-linear-systems-identyfication/F_16_ground_vibration_test_identification.ipynb#X21sZmlsZQ%3D%3D?line=9'>10</a>\u001b[0m \u001b[39m# Utworzenie modelu\u001b[39;00m\n",
      "\u001b[0;31mTypeError\u001b[0m: get_training_validation_and_testing_sets() takes 2 positional arguments but 3 were given"
     ]
    }
   ],
   "source": [
    "import keras\n",
    "import tensorflow as tf\n",
    "import matplotlib as plt\n",
    "\n",
    "sets = get_training_validation_and_testing_sets(\n",
    "    data_samples, 15, StimulationType.SINE_SWEEP\n",
    ")\n",
    "X_train, X_val, X_test, y_train, y_val, y_test = sets\n",
    "\n",
    "# Utworzenie modelu\n",
    "model = tf.keras.Sequential(\n",
    "    [\n",
    "        tf.keras.layers.LSTM(128, activation=\"relu\", input_shape=(X_train[0].shape)),\n",
    "        tf.keras.layers.Dense(64, activation=\"relu\"),\n",
    "        tf.keras.layers.Dense(3),\n",
    "    ]\n",
    ")\n",
    "\n",
    "# Kompilacja modelu\n",
    "model.compile(optimizer=\"adam\", loss=\"mse\")\n",
    "\n",
    "# Trenowanie modelu\n",
    "history = model.fit(\n",
    "    X_train, y_train, validation_data=(X_val, y_val), epochs=3000, verbose=0\n",
    ")\n",
    "\n",
    "# Ocena modelu na zestawie testowym\n",
    "loss = model.evaluate(X_test, y_test, verbose=0)\n",
    "print(f\"Test Loss: {loss}\")\n",
    "\n",
    "# Wykres straty podczas trenowania\n",
    "plt.plot(history.history[\"loss\"], label=\"Training Loss\")\n",
    "plt.plot(history.history[\"val_loss\"], label=\"Validation Loss\")\n",
    "plt.xlabel(\"Epochs\")\n",
    "plt.ylabel(\"Loss (MSE)\")\n",
    "plt.legend()\n",
    "plt.title(\"Training and Validation Loss\")\n",
    "plt.show()\n",
    "\n",
    "# Predykcja na zestawie testowym\n",
    "predictions = model.predict(X_test)\n",
    "\n",
    "# Wykres porównujący dane testowe z predykcjami\n",
    "plt.figure(figsize=(12, 6))\n",
    "for i in range(3):\n",
    "    plt.plot(y_test[:, i], label=f\"True Value {i+1}\")\n",
    "    plt.plot(predictions[:, i], label=f\"Predicted Value {i+1}\")\n",
    "plt.xlabel(\"Samples\")\n",
    "plt.ylabel(\"Acceleration\")\n",
    "plt.title(\"Comparison of True and Predicted Values\")\n",
    "plt.legend()\n",
    "plt.show()"
   ]
  }
 ],
 "metadata": {
  "kernelspec": {
   "display_name": "Python 3",
   "language": "python",
   "name": "python3"
  },
  "language_info": {
   "codemirror_mode": {
    "name": "ipython",
    "version": 3
   },
   "file_extension": ".py",
   "mimetype": "text/x-python",
   "name": "python",
   "nbconvert_exporter": "python",
   "pygments_lexer": "ipython3",
   "version": "3.10.2"
  },
  "orig_nbformat": 4,
  "vscode": {
   "interpreter": {
    "hash": "97cc609b13305c559618ec78a438abc56230b9381f827f22d070313b9a1f3777"
   }
  }
 },
 "nbformat": 4,
 "nbformat_minor": 2
}
